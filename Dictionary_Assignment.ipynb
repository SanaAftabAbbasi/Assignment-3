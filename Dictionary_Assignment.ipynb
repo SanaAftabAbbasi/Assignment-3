{
 "cells": [
  {
   "cell_type": "code",
   "execution_count": null,
   "metadata": {},
   "outputs": [],
   "source": [
    "Q1 Python program to Add a Key-Value Pair to the Dictionary."
   ]
  },
  {
   "cell_type": "code",
   "execution_count": 2,
   "metadata": {},
   "outputs": [
    {
     "name": "stdin",
     "output_type": "stream",
     "text": [
      "Enter Key:  Name\n",
      "Enter Key Value:  Sana Aftab Abbasi\n"
     ]
    },
    {
     "name": "stdout",
     "output_type": "stream",
     "text": [
      "Updated Dictionary with Key Value Pair: \n",
      "{'Name': 'Sana Aftab Abbasi'}\n"
     ]
    }
   ],
   "source": [
    "key=input(\"Enter Key: \")\n",
    "value=input(\"Enter Key Value: \")\n",
    "dict={}\n",
    "dict.update({key:value})\n",
    "print('Updated Dictionary with Key Value Pair: ')\n",
    "print(dict)"
   ]
  },
  {
   "cell_type": "code",
   "execution_count": null,
   "metadata": {},
   "outputs": [],
   "source": [
    "Q2 Python Program to Concatenate Two Dictionaries into One."
   ]
  },
  {
   "cell_type": "code",
   "execution_count": 4,
   "metadata": {},
   "outputs": [
    {
     "name": "stdout",
     "output_type": "stream",
     "text": [
      "Concatenated Dictionary: \n",
      "{'A': 1, 'C': 3, 'B': 2}\n"
     ]
    }
   ],
   "source": [
    "dict1={'A':1,'C':3}\n",
    "dict2={'B':2}\n",
    "dict1.update(dict2)\n",
    "print('Concatenated Dictionary: ')\n",
    "print(dict1)"
   ]
  },
  {
   "cell_type": "code",
   "execution_count": null,
   "metadata": {},
   "outputs": [],
   "source": [
    "Q3 Python program to Check if a Given Key Exists in a Dictionary or Not."
   ]
  },
  {
   "cell_type": "code",
   "execution_count": 7,
   "metadata": {},
   "outputs": [
    {
     "name": "stdin",
     "output_type": "stream",
     "text": [
      "Enter Key to check key value:  x\n"
     ]
    },
    {
     "name": "stdout",
     "output_type": "stream",
     "text": [
      "Key is present and Value of key is:  100\n"
     ]
    }
   ],
   "source": [
    "dict={'a':10,'b':20,'c':30,'x':100,'y':200,'z':300}\n",
    "key=input('Enter Key to check key value: ')\n",
    "if key in dict.keys():\n",
    "    print('Key is present and Value of key is: ',dict[key])\n",
    "else:\n",
    "    print('Key is Not present in the dictionary')"
   ]
  },
  {
   "cell_type": "code",
   "execution_count": null,
   "metadata": {},
   "outputs": [],
   "source": [
    "Q4 Python Program to Generate a Dictionary that contains Numbers (between 1 and n) in the form(x,x*x)."
   ]
  },
  {
   "cell_type": "code",
   "execution_count": 9,
   "metadata": {},
   "outputs": [
    {
     "name": "stdin",
     "output_type": "stream",
     "text": [
      "Enter Number:  8\n"
     ]
    },
    {
     "name": "stdout",
     "output_type": "stream",
     "text": [
      "{1: 1, 2: 4, 3: 9, 4: 16, 5: 25, 6: 36, 7: 49, 8: 64}\n"
     ]
    }
   ],
   "source": [
    "num=int(input('Enter Number: '))\n",
    "dict={i:i*i for i in range(1,num+1)}\n",
    "print(dict)"
   ]
  },
  {
   "cell_type": "code",
   "execution_count": null,
   "metadata": {},
   "outputs": [],
   "source": [
    "Q5 Python Program to Sum All the items in a Dictionary."
   ]
  },
  {
   "cell_type": "code",
   "execution_count": 10,
   "metadata": {},
   "outputs": [
    {
     "name": "stdout",
     "output_type": "stream",
     "text": [
      "Total Sum of Dictionary Values are:  624\n"
     ]
    }
   ],
   "source": [
    "dicsum={'A':12,'B':52,'C':80,'D':100,'E':180,'F':200}\n",
    "total=sum(dicsum.values())\n",
    "print('Total Sum of Dictionary Values are: ',total)"
   ]
  },
  {
   "cell_type": "code",
   "execution_count": null,
   "metadata": {},
   "outputs": [],
   "source": [
    "Q6 Python Program to Multiply All the items in Dictionary."
   ]
  },
  {
   "cell_type": "code",
   "execution_count": 12,
   "metadata": {},
   "outputs": [
    {
     "name": "stdout",
     "output_type": "stream",
     "text": [
      "The Multiplication of all the Items is:  51778701950976\n"
     ]
    }
   ],
   "source": [
    "dicmul={'A':22,'B':32,'C':42,'D':52,'E':62,'F':72,'G':82,'H':92}\n",
    "mul=1\n",
    "for i in dicmul:\n",
    "    mul=mul*dicmul[i]\n",
    "print('The Multiplication of all the Items is: ',mul)"
   ]
  },
  {
   "cell_type": "code",
   "execution_count": null,
   "metadata": {},
   "outputs": [],
   "source": [
    "Q7 Python Program to Remove the Given key from a Dictionary."
   ]
  },
  {
   "cell_type": "code",
   "execution_count": 15,
   "metadata": {},
   "outputs": [
    {
     "name": "stdout",
     "output_type": "stream",
     "text": [
      "Dictionary is:  {'A': 5, 'B': 10, 'C': 15, 'D': 20, 'E': 25, 'F': 30, 'G': 35, 'H': 40, 'I': 45, 'J': 50, 'K': 55, 'L': 60, 'M': 65, 'N': 70, 'O': 75, 'P': 80, 'Q': 85, 'R': 90, 'S': 95, 'T': 100}\n"
     ]
    },
    {
     "name": "stdin",
     "output_type": "stream",
     "text": [
      "Ente Key to Delete (A-T):  s\n"
     ]
    },
    {
     "name": "stdout",
     "output_type": "stream",
     "text": [
      "Key is Not Found\n",
      "New Dictionary: After Deleted Value:  {'A': 5, 'B': 10, 'C': 15, 'D': 20, 'E': 25, 'F': 30, 'G': 35, 'H': 40, 'I': 45, 'J': 50, 'K': 55, 'L': 60, 'M': 65, 'N': 70, 'O': 75, 'P': 80, 'Q': 85, 'R': 90, 'S': 95, 'T': 100}\n"
     ]
    }
   ],
   "source": [
    "dictio={'A':5,'B':10,'C':15,'D':20,'E':25,'F':30,'G':35,'H':40,'I':45,'J':50,'K':55,'L':60,'M':65,'N':70,'O':75,'P':80,'Q':85,'R':90,'S':95,'T':100}\n",
    "print('Dictionary is: ',dictio)\n",
    "dickey=input('Ente Key to Delete (A-T): ')\n",
    "if dickey in dictio:\n",
    "    del dictio[dickey]\n",
    "else:\n",
    "    print('Key is Not Found')\n",
    "    exit(0)\n",
    "print('New Dictionary: After Deleted Value: ',dictio)"
   ]
  },
  {
   "cell_type": "code",
   "execution_count": 1,
   "metadata": {},
   "outputs": [
    {
     "name": "stdout",
     "output_type": "stream",
     "text": [
      "Dictionary is:  {'A': 5, 'B': 10, 'C': 15, 'D': 20, 'E': 25, 'F': 30, 'G': 35, 'H': 40, 'I': 45, 'J': 50, 'K': 55, 'L': 60, 'M': 65, 'N': 70, 'O': 75, 'P': 80, 'Q': 85, 'R': 90, 'S': 95, 'T': 100}\n"
     ]
    },
    {
     "name": "stdin",
     "output_type": "stream",
     "text": [
      "Ente Key to Delete (A-T):  S\n"
     ]
    },
    {
     "name": "stdout",
     "output_type": "stream",
     "text": [
      "New Dictionary: After Deleted Value:  {'A': 5, 'B': 10, 'C': 15, 'D': 20, 'E': 25, 'F': 30, 'G': 35, 'H': 40, 'I': 45, 'J': 50, 'K': 55, 'L': 60, 'M': 65, 'N': 70, 'O': 75, 'P': 80, 'Q': 85, 'R': 90, 'T': 100}\n"
     ]
    }
   ],
   "source": [
    "dictio={'A':5,'B':10,'C':15,'D':20,'E':25,'F':30,'G':35,'H':40,'I':45,'J':50,'K':55,'L':60,'M':65,'N':70,'O':75,'P':80,'Q':85,'R':90,'S':95,'T':100}\n",
    "print('Dictionary is: ',dictio)\n",
    "dickey=input('Ente Key to Delete (A-T): ')\n",
    "if dickey in dictio:\n",
    "    del dictio[dickey]\n",
    "else:\n",
    "    print('Key is Not Found')\n",
    "    exit(0)\n",
    "print('New Dictionary: After Deleted Value: ',dictio)"
   ]
  },
  {
   "cell_type": "code",
   "execution_count": null,
   "metadata": {},
   "outputs": [],
   "source": [
    "Q8 Python Program to Map Two Lists into a Dictionary."
   ]
  },
  {
   "cell_type": "code",
   "execution_count": 6,
   "metadata": {},
   "outputs": [
    {
     "name": "stdout",
     "output_type": "stream",
     "text": [
      "{'id': 22, 'Name': 'Sana Abbasi', 'Course': 'AI', 'City': 'Islamabad'}\n"
     ]
    }
   ],
   "source": [
    "list1=[\"id\", \"Name\", \"Course\", \"City\"]\n",
    "list2=[22,\"Sana Abbasi\", \"AI\", \"Islamabad\"]\n",
    "dict={}\n",
    "for i in range(0, len(list1)):\n",
    "    dict[list1[i]]=list2[i]\n",
    "print(dict)"
   ]
  },
  {
   "cell_type": "code",
   "execution_count": null,
   "metadata": {},
   "outputs": [],
   "source": [
    "Q9 Python Program to count the frequency of words appearing in a string using a dictionary."
   ]
  },
  {
   "cell_type": "code",
   "execution_count": 8,
   "metadata": {},
   "outputs": [
    {
     "name": "stdin",
     "output_type": "stream",
     "text": [
      "Enter your string:  sana\n"
     ]
    },
    {
     "name": "stdout",
     "output_type": "stream",
     "text": [
      "{'sana': 1}\n"
     ]
    }
   ],
   "source": [
    "a=input(\"Enter your string: \")\n",
    "a=a.split()\n",
    "d={}\n",
    "for i in range(0,len(a)):\n",
    "    k=a[i]\n",
    "    if k in d.keys():\n",
    "         d[a[i]]=d[a[i]] + 1\n",
    "    else:\n",
    "        d[a[i]]=1\n",
    "print(d)"
   ]
  },
  {
   "cell_type": "code",
   "execution_count": null,
   "metadata": {},
   "outputs": [],
   "source": [
    "Q10 Python Program to Create a dictionary with key a first character and value as words starting with that character."
   ]
  },
  {
   "cell_type": "code",
   "execution_count": 1,
   "metadata": {},
   "outputs": [
    {
     "name": "stdin",
     "output_type": "stream",
     "text": [
      "Enter your string:  My name is sana\n"
     ]
    },
    {
     "name": "stdout",
     "output_type": "stream",
     "text": [
      "{'M': 'My', 'n': 'name', 'i': 'is', 's': 'sana'}\n"
     ]
    }
   ],
   "source": [
    "str=input(\"Enter your string: \")\n",
    "d={}\n",
    "str=str.split()\n",
    "for i in range(0,len(str)):\n",
    "    v=str[i]\n",
    "    if v[0] in d.keys():\n",
    "        d[v[0]]=d[v[0]] + \", \" + str[i]\n",
    "    else:\n",
    "        d[v[0]]=str[i]        \n",
    "print(d)\n",
    "        \n"
   ]
  },
  {
   "cell_type": "code",
   "execution_count": null,
   "metadata": {},
   "outputs": [],
   "source": []
  },
  {
   "cell_type": "code",
   "execution_count": null,
   "metadata": {},
   "outputs": [],
   "source": []
  },
  {
   "cell_type": "code",
   "execution_count": null,
   "metadata": {},
   "outputs": [],
   "source": []
  },
  {
   "cell_type": "code",
   "execution_count": null,
   "metadata": {},
   "outputs": [],
   "source": []
  },
  {
   "cell_type": "code",
   "execution_count": null,
   "metadata": {},
   "outputs": [],
   "source": []
  }
 ],
 "metadata": {
  "kernelspec": {
   "display_name": "Python 3",
   "language": "python",
   "name": "python3"
  },
  "language_info": {
   "codemirror_mode": {
    "name": "ipython",
    "version": 3
   },
   "file_extension": ".py",
   "mimetype": "text/x-python",
   "name": "python",
   "nbconvert_exporter": "python",
   "pygments_lexer": "ipython3",
   "version": "3.7.3"
  }
 },
 "nbformat": 4,
 "nbformat_minor": 4
}
